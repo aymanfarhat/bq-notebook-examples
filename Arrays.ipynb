{
 "cells": [
  {
   "cell_type": "code",
   "execution_count": 2,
   "id": "77b70da3",
   "metadata": {},
   "outputs": [],
   "source": [
    "%load_ext google.cloud.bigquery"
   ]
  },
  {
   "cell_type": "markdown",
   "id": "f51b7061",
   "metadata": {},
   "source": [
    "# Working with Arrays"
   ]
  },
  {
   "cell_type": "markdown",
   "id": "f9239344",
   "metadata": {},
   "source": [
    "## Arrays can preserve order"
   ]
  },
  {
   "cell_type": "markdown",
   "id": "79d7c19f",
   "metadata": {},
   "source": [
    "In the following query, ORDER BY works but if we need to save the data in an intermediary table for \n",
    "downstream analysis there is not guarantee of preserving ordering when reading it back from the table"
   ]
  },
  {
   "cell_type": "code",
   "execution_count": 3,
   "id": "6d2d32ef",
   "metadata": {},
   "outputs": [
    {
     "name": "stderr",
     "output_type": "stream",
     "text": [
      "Query complete after 0.03s: 100%|█████████████████████████████████████████████████████████████████████████████████████████████████████████████| 3/3 [00:00<00:00, 972.48query/s]\n",
      "Downloading: 100%|██████████████████████████████████████████████████████████████████████████████████████████████████████████████████████████| 100/100 [00:01<00:00, 68.49rows/s]\n"
     ]
    },
    {
     "data": {
      "text/html": [
       "<div>\n",
       "<style scoped>\n",
       "    .dataframe tbody tr th:only-of-type {\n",
       "        vertical-align: middle;\n",
       "    }\n",
       "\n",
       "    .dataframe tbody tr th {\n",
       "        vertical-align: top;\n",
       "    }\n",
       "\n",
       "    .dataframe thead th {\n",
       "        text-align: right;\n",
       "    }\n",
       "</style>\n",
       "<table border=\"1\" class=\"dataframe\">\n",
       "  <thead>\n",
       "    <tr style=\"text-align: right;\">\n",
       "      <th></th>\n",
       "      <th>bike_id</th>\n",
       "      <th>num_trips</th>\n",
       "    </tr>\n",
       "  </thead>\n",
       "  <tbody>\n",
       "    <tr>\n",
       "      <th>0</th>\n",
       "      <td>12925</td>\n",
       "      <td>2922</td>\n",
       "    </tr>\n",
       "    <tr>\n",
       "      <th>1</th>\n",
       "      <td>12841</td>\n",
       "      <td>2871</td>\n",
       "    </tr>\n",
       "    <tr>\n",
       "      <th>2</th>\n",
       "      <td>13071</td>\n",
       "      <td>2860</td>\n",
       "    </tr>\n",
       "    <tr>\n",
       "      <th>3</th>\n",
       "      <td>12926</td>\n",
       "      <td>2854</td>\n",
       "    </tr>\n",
       "    <tr>\n",
       "      <th>4</th>\n",
       "      <td>12991</td>\n",
       "      <td>2829</td>\n",
       "    </tr>\n",
       "    <tr>\n",
       "      <th>...</th>\n",
       "      <td>...</td>\n",
       "      <td>...</td>\n",
       "    </tr>\n",
       "    <tr>\n",
       "      <th>95</th>\n",
       "      <td>10874</td>\n",
       "      <td>2600</td>\n",
       "    </tr>\n",
       "    <tr>\n",
       "      <th>96</th>\n",
       "      <td>12430</td>\n",
       "      <td>2599</td>\n",
       "    </tr>\n",
       "    <tr>\n",
       "      <th>97</th>\n",
       "      <td>11759</td>\n",
       "      <td>2598</td>\n",
       "    </tr>\n",
       "    <tr>\n",
       "      <th>98</th>\n",
       "      <td>12839</td>\n",
       "      <td>2598</td>\n",
       "    </tr>\n",
       "    <tr>\n",
       "      <th>99</th>\n",
       "      <td>11548</td>\n",
       "      <td>2596</td>\n",
       "    </tr>\n",
       "  </tbody>\n",
       "</table>\n",
       "<p>100 rows × 2 columns</p>\n",
       "</div>"
      ],
      "text/plain": [
       "    bike_id  num_trips\n",
       "0     12925       2922\n",
       "1     12841       2871\n",
       "2     13071       2860\n",
       "3     12926       2854\n",
       "4     12991       2829\n",
       "..      ...        ...\n",
       "95    10874       2600\n",
       "96    12430       2599\n",
       "97    11759       2598\n",
       "98    12839       2598\n",
       "99    11548       2596\n",
       "\n",
       "[100 rows x 2 columns]"
      ]
     },
     "execution_count": 3,
     "metadata": {},
     "output_type": "execute_result"
    }
   ],
   "source": [
    "%%bigquery\n",
    "\n",
    "SELECT\n",
    "  bike_id,\n",
    "  COUNT(*) AS num_trips\n",
    "FROM\n",
    "  dataflow-templates-327714.bigquery_examples.cycle_hire\n",
    "GROUP BY\n",
    "  bike_id ORDER BY num_trips DESC\n",
    "LIMIT\n",
    "  100"
   ]
  },
  {
   "cell_type": "markdown",
   "id": "529fa934",
   "metadata": {},
   "source": [
    "On relatively small results related to reuse in the same query, Arrays can be a better option if ordering is\n",
    "important for the subsequent analysis steps. **One solution would be to store the result into a single row by aggregating the result into an array and moving the order by clause to ARRAY_AGG**."
   ]
  },
  {
   "cell_type": "code",
   "execution_count": 4,
   "id": "5ac59f48",
   "metadata": {},
   "outputs": [
    {
     "name": "stderr",
     "output_type": "stream",
     "text": [
      "Query complete after 0.01s: 100%|█████████████████████████████████████████████████████████████████████████████████████████████████████████████| 3/3 [00:00<00:00, 919.40query/s]\n",
      "Downloading: 100%|██████████████████████████████████████████████████████████████████████████████████████████████████████████████████████████████| 1/1 [00:01<00:00,  1.25s/rows]\n"
     ]
    },
    {
     "data": {
      "text/html": [
       "<div>\n",
       "<style scoped>\n",
       "    .dataframe tbody tr th:only-of-type {\n",
       "        vertical-align: middle;\n",
       "    }\n",
       "\n",
       "    .dataframe tbody tr th {\n",
       "        vertical-align: top;\n",
       "    }\n",
       "\n",
       "    .dataframe thead th {\n",
       "        text-align: right;\n",
       "    }\n",
       "</style>\n",
       "<table border=\"1\" class=\"dataframe\">\n",
       "  <thead>\n",
       "    <tr style=\"text-align: right;\">\n",
       "      <th></th>\n",
       "      <th>bike</th>\n",
       "    </tr>\n",
       "  </thead>\n",
       "  <tbody>\n",
       "    <tr>\n",
       "      <th>0</th>\n",
       "      <td>[{'id': 12925, 'num_trips': 2922}, {'id': 1284...</td>\n",
       "    </tr>\n",
       "  </tbody>\n",
       "</table>\n",
       "</div>"
      ],
      "text/plain": [
       "                                                bike\n",
       "0  [{'id': 12925, 'num_trips': 2922}, {'id': 1284..."
      ]
     },
     "execution_count": 4,
     "metadata": {},
     "output_type": "execute_result"
    }
   ],
   "source": [
    "%%bigquery\n",
    "WITH\n",
    "  numtrips AS (\n",
    "  SELECT\n",
    "    bike_id AS id,\n",
    "    COUNT(*) AS num_trips\n",
    "  FROM\n",
    "    dataflow-templates-327714.bigquery_examples.cycle_hire\n",
    "  GROUP BY\n",
    "    bike_id )\n",
    "SELECT\n",
    "  ARRAY_AGG(STRUCT(id,\n",
    "      num_trips)\n",
    "  ORDER BY\n",
    "    num_trips DESC\n",
    "  LIMIT\n",
    "    100) AS bike\n",
    "FROM\n",
    "  numtrips"
   ]
  },
  {
   "cell_type": "markdown",
   "id": "4d4fabfb",
   "metadata": {},
   "source": [
    "You can think of an array of struct as mini table stored in a single row."
   ]
  },
  {
   "cell_type": "markdown",
   "id": "4e7ac194",
   "metadata": {},
   "source": [
    "## Storing repeated fields"
   ]
  },
  {
   "cell_type": "markdown",
   "id": "2f1c529c",
   "metadata": {},
   "source": [
    "Example use case of a repeated field, is 1 to n data to be stored on the same row without external tables to JOIN \n",
    "e.g. 1 organisation having multiple tax filing records"
   ]
  },
  {
   "cell_type": "code",
   "execution_count": 9,
   "id": "f3b1c689",
   "metadata": {},
   "outputs": [
    {
     "name": "stderr",
     "output_type": "stream",
     "text": [
      "Query complete after 0.01s: 100%|█████████████████████████████████████████████████████████████████████████████████████████████████████████████| 1/1 [00:00<00:00, 339.45query/s]\n",
      "Downloading: 100%|██████████████████████████████████████████████████████████████████████████████████████████████████████████████████████████████| 8/8 [00:01<00:00,  5.59rows/s]\n"
     ]
    },
    {
     "data": {
      "text/html": [
       "<div>\n",
       "<style scoped>\n",
       "    .dataframe tbody tr th:only-of-type {\n",
       "        vertical-align: middle;\n",
       "    }\n",
       "\n",
       "    .dataframe tbody tr th {\n",
       "        vertical-align: top;\n",
       "    }\n",
       "\n",
       "    .dataframe thead th {\n",
       "        text-align: right;\n",
       "    }\n",
       "</style>\n",
       "<table border=\"1\" class=\"dataframe\">\n",
       "  <thead>\n",
       "    <tr style=\"text-align: right;\">\n",
       "      <th></th>\n",
       "      <th>ein</th>\n",
       "      <th>tax_pd</th>\n",
       "      <th>subseccd</th>\n",
       "    </tr>\n",
       "  </thead>\n",
       "  <tbody>\n",
       "    <tr>\n",
       "      <th>0</th>\n",
       "      <td>390123480</td>\n",
       "      <td>201412</td>\n",
       "      <td>8</td>\n",
       "    </tr>\n",
       "    <tr>\n",
       "      <th>1</th>\n",
       "      <td>390123480</td>\n",
       "      <td>201312</td>\n",
       "      <td>8</td>\n",
       "    </tr>\n",
       "    <tr>\n",
       "      <th>2</th>\n",
       "      <td>382227794</td>\n",
       "      <td>201406</td>\n",
       "      <td>6</td>\n",
       "    </tr>\n",
       "    <tr>\n",
       "      <th>3</th>\n",
       "      <td>361493430</td>\n",
       "      <td>201412</td>\n",
       "      <td>8</td>\n",
       "    </tr>\n",
       "    <tr>\n",
       "      <th>4</th>\n",
       "      <td>361493430</td>\n",
       "      <td>201312</td>\n",
       "      <td>8</td>\n",
       "    </tr>\n",
       "    <tr>\n",
       "      <th>5</th>\n",
       "      <td>366066772</td>\n",
       "      <td>201412</td>\n",
       "      <td>14</td>\n",
       "    </tr>\n",
       "    <tr>\n",
       "      <th>6</th>\n",
       "      <td>376028123</td>\n",
       "      <td>201412</td>\n",
       "      <td>14</td>\n",
       "    </tr>\n",
       "    <tr>\n",
       "      <th>7</th>\n",
       "      <td>362154936</td>\n",
       "      <td>201412</td>\n",
       "      <td>9</td>\n",
       "    </tr>\n",
       "  </tbody>\n",
       "</table>\n",
       "</div>"
      ],
      "text/plain": [
       "         ein  tax_pd  subseccd\n",
       "0  390123480  201412         8\n",
       "1  390123480  201312         8\n",
       "2  382227794  201406         6\n",
       "3  361493430  201412         8\n",
       "4  361493430  201312         8\n",
       "5  366066772  201412        14\n",
       "6  376028123  201412        14\n",
       "7  362154936  201412         9"
      ]
     },
     "execution_count": 9,
     "metadata": {},
     "output_type": "execute_result"
    }
   ],
   "source": [
    "%%bigquery\n",
    "SELECT\n",
    "  ein,\n",
    "  tax_pd, \n",
    "  subseccd\n",
    "FROM\n",
    "  `bigquery-public-data.irs_990.irs_990_2015`\n",
    "WHERE\n",
    "  ein BETWEEN '200'\n",
    "  AND '399'\n",
    "LIMIT\n",
    "  8;"
   ]
  },
  {
   "cell_type": "code",
   "execution_count": 8,
   "id": "0274fc4f",
   "metadata": {},
   "outputs": [
    {
     "name": "stderr",
     "output_type": "stream",
     "text": [
      "Query complete after 0.01s: 100%|█████████████████████████████████████████████████████████████████████████████████████████████████████████████| 3/3 [00:00<00:00, 437.07query/s]\n",
      "Downloading: 100%|██████████████████████████████████████████████████████████████████████████████████████████████████████████████████████████████| 8/8 [00:01<00:00,  6.51rows/s]\n"
     ]
    },
    {
     "data": {
      "text/html": [
       "<div>\n",
       "<style scoped>\n",
       "    .dataframe tbody tr th:only-of-type {\n",
       "        vertical-align: middle;\n",
       "    }\n",
       "\n",
       "    .dataframe tbody tr th {\n",
       "        vertical-align: top;\n",
       "    }\n",
       "\n",
       "    .dataframe thead th {\n",
       "        text-align: right;\n",
       "    }\n",
       "</style>\n",
       "<table border=\"1\" class=\"dataframe\">\n",
       "  <thead>\n",
       "    <tr style=\"text-align: right;\">\n",
       "      <th></th>\n",
       "      <th>ein</th>\n",
       "      <th>filing</th>\n",
       "    </tr>\n",
       "  </thead>\n",
       "  <tbody>\n",
       "    <tr>\n",
       "      <th>0</th>\n",
       "      <td>390123480</td>\n",
       "      <td>[{'elf': 'E', 'tax_pd': 201412, 'subseccd': 8}...</td>\n",
       "    </tr>\n",
       "    <tr>\n",
       "      <th>1</th>\n",
       "      <td>382227794</td>\n",
       "      <td>[{'elf': 'E', 'tax_pd': 201406, 'subseccd': 6}]</td>\n",
       "    </tr>\n",
       "    <tr>\n",
       "      <th>2</th>\n",
       "      <td>361493430</td>\n",
       "      <td>[{'elf': 'E', 'tax_pd': 201412, 'subseccd': 8}...</td>\n",
       "    </tr>\n",
       "    <tr>\n",
       "      <th>3</th>\n",
       "      <td>366066772</td>\n",
       "      <td>[{'elf': 'E', 'tax_pd': 201412, 'subseccd': 14}]</td>\n",
       "    </tr>\n",
       "    <tr>\n",
       "      <th>4</th>\n",
       "      <td>376028123</td>\n",
       "      <td>[{'elf': 'E', 'tax_pd': 201412, 'subseccd': 14}]</td>\n",
       "    </tr>\n",
       "    <tr>\n",
       "      <th>5</th>\n",
       "      <td>362154936</td>\n",
       "      <td>[{'elf': 'E', 'tax_pd': 201412, 'subseccd': 9}]</td>\n",
       "    </tr>\n",
       "    <tr>\n",
       "      <th>6</th>\n",
       "      <td>230961140</td>\n",
       "      <td>[{'elf': 'E', 'tax_pd': 201412, 'subseccd': 14}]</td>\n",
       "    </tr>\n",
       "    <tr>\n",
       "      <th>7</th>\n",
       "      <td>381350130</td>\n",
       "      <td>[{'elf': 'E', 'tax_pd': 201412, 'subseccd': 14}]</td>\n",
       "    </tr>\n",
       "  </tbody>\n",
       "</table>\n",
       "</div>"
      ],
      "text/plain": [
       "         ein                                             filing\n",
       "0  390123480  [{'elf': 'E', 'tax_pd': 201412, 'subseccd': 8}...\n",
       "1  382227794    [{'elf': 'E', 'tax_pd': 201406, 'subseccd': 6}]\n",
       "2  361493430  [{'elf': 'E', 'tax_pd': 201412, 'subseccd': 8}...\n",
       "3  366066772   [{'elf': 'E', 'tax_pd': 201412, 'subseccd': 14}]\n",
       "4  376028123   [{'elf': 'E', 'tax_pd': 201412, 'subseccd': 14}]\n",
       "5  362154936    [{'elf': 'E', 'tax_pd': 201412, 'subseccd': 9}]\n",
       "6  230961140   [{'elf': 'E', 'tax_pd': 201412, 'subseccd': 14}]\n",
       "7  381350130   [{'elf': 'E', 'tax_pd': 201412, 'subseccd': 14}]"
      ]
     },
     "execution_count": 8,
     "metadata": {},
     "output_type": "execute_result"
    }
   ],
   "source": [
    "%%bigquery\n",
    "SELECT\n",
    "  ein,\n",
    "  ARRAY_AGG(STRUCT(elf,\n",
    "      tax_pd,\n",
    "      subseccd)) AS filing\n",
    "FROM\n",
    "  `bigquery-public-data.irs_990.irs_990_2015`\n",
    "WHERE\n",
    "  ein BETWEEN '200'\n",
    "  AND '399'\n",
    "GROUP BY\n",
    "  ein\n",
    "LIMIT\n",
    "  8;"
   ]
  },
  {
   "cell_type": "markdown",
   "id": "98f0e4e1",
   "metadata": {},
   "source": [
    "## Generating data"
   ]
  },
  {
   "cell_type": "markdown",
   "id": "373c990b",
   "metadata": {},
   "source": [
    "Example of a list of summer days"
   ]
  },
  {
   "cell_type": "code",
   "execution_count": 11,
   "id": "a6c8e05f",
   "metadata": {},
   "outputs": [
    {
     "name": "stderr",
     "output_type": "stream",
     "text": [
      "Query complete after 0.04s: 100%|██████████████████████████████████████████████████████████████████████████████████████████████████████████████| 1/1 [00:00<00:00, 90.13query/s]\n",
      "Downloading: 100%|██████████████████████████████████████████████████████████████████████████████████████████████████████████████████████████████| 1/1 [00:01<00:00,  1.50s/rows]\n"
     ]
    },
    {
     "data": {
      "text/html": [
       "<div>\n",
       "<style scoped>\n",
       "    .dataframe tbody tr th:only-of-type {\n",
       "        vertical-align: middle;\n",
       "    }\n",
       "\n",
       "    .dataframe tbody tr th {\n",
       "        vertical-align: top;\n",
       "    }\n",
       "\n",
       "    .dataframe thead th {\n",
       "        text-align: right;\n",
       "    }\n",
       "</style>\n",
       "<table border=\"1\" class=\"dataframe\">\n",
       "  <thead>\n",
       "    <tr style=\"text-align: right;\">\n",
       "      <th></th>\n",
       "      <th>summer</th>\n",
       "    </tr>\n",
       "  </thead>\n",
       "  <tbody>\n",
       "    <tr>\n",
       "      <th>0</th>\n",
       "      <td>[2019-06-23, 2019-07-03, 2019-07-13, 2019-07-2...</td>\n",
       "    </tr>\n",
       "  </tbody>\n",
       "</table>\n",
       "</div>"
      ],
      "text/plain": [
       "                                              summer\n",
       "0  [2019-06-23, 2019-07-03, 2019-07-13, 2019-07-2..."
      ]
     },
     "execution_count": 11,
     "metadata": {},
     "output_type": "execute_result"
    }
   ],
   "source": [
    "%%bigquery\n",
    "\n",
    "SELECT\n",
    "  GENERATE_DATE_ARRAY('2019-06-23', '2019-08-22', INTERVAL 10 DAY) AS summer"
   ]
  },
  {
   "cell_type": "markdown",
   "id": "e3f3f07d",
   "metadata": {},
   "source": [
    "This can be converted back to table via **UNNEST**"
   ]
  },
  {
   "cell_type": "code",
   "execution_count": 12,
   "id": "0f3b0ff8",
   "metadata": {},
   "outputs": [
    {
     "name": "stderr",
     "output_type": "stream",
     "text": [
      "Query complete after 0.01s: 100%|█████████████████████████████████████████████████████████████████████████████████████████████████████████████| 2/2 [00:00<00:00, 212.69query/s]\n",
      "Downloading: 100%|██████████████████████████████████████████████████████████████████████████████████████████████████████████████████████████████| 7/7 [00:01<00:00,  4.30rows/s]\n"
     ]
    },
    {
     "data": {
      "text/html": [
       "<div>\n",
       "<style scoped>\n",
       "    .dataframe tbody tr th:only-of-type {\n",
       "        vertical-align: middle;\n",
       "    }\n",
       "\n",
       "    .dataframe tbody tr th {\n",
       "        vertical-align: top;\n",
       "    }\n",
       "\n",
       "    .dataframe thead th {\n",
       "        text-align: right;\n",
       "    }\n",
       "</style>\n",
       "<table border=\"1\" class=\"dataframe\">\n",
       "  <thead>\n",
       "    <tr style=\"text-align: right;\">\n",
       "      <th></th>\n",
       "      <th>summer_day</th>\n",
       "    </tr>\n",
       "  </thead>\n",
       "  <tbody>\n",
       "    <tr>\n",
       "      <th>0</th>\n",
       "      <td>2019-06-23</td>\n",
       "    </tr>\n",
       "    <tr>\n",
       "      <th>1</th>\n",
       "      <td>2019-07-03</td>\n",
       "    </tr>\n",
       "    <tr>\n",
       "      <th>2</th>\n",
       "      <td>2019-07-13</td>\n",
       "    </tr>\n",
       "    <tr>\n",
       "      <th>3</th>\n",
       "      <td>2019-07-23</td>\n",
       "    </tr>\n",
       "    <tr>\n",
       "      <th>4</th>\n",
       "      <td>2019-08-02</td>\n",
       "    </tr>\n",
       "    <tr>\n",
       "      <th>5</th>\n",
       "      <td>2019-08-12</td>\n",
       "    </tr>\n",
       "    <tr>\n",
       "      <th>6</th>\n",
       "      <td>2019-08-22</td>\n",
       "    </tr>\n",
       "  </tbody>\n",
       "</table>\n",
       "</div>"
      ],
      "text/plain": [
       "   summer_day\n",
       "0  2019-06-23\n",
       "1  2019-07-03\n",
       "2  2019-07-13\n",
       "3  2019-07-23\n",
       "4  2019-08-02\n",
       "5  2019-08-12\n",
       "6  2019-08-22"
      ]
     },
     "execution_count": 12,
     "metadata": {},
     "output_type": "execute_result"
    }
   ],
   "source": [
    "%%bigquery\n",
    "\n",
    "WITH\n",
    "  days AS (\n",
    "  SELECT\n",
    "    GENERATE_DATE_ARRAY('2019-06-23', '2019-08-22', INTERVAL 10 DAY) AS summer)\n",
    "SELECT\n",
    "  summer_day\n",
    "FROM\n",
    "  days,\n",
    "  UNNEST(summer) AS summer_day"
   ]
  },
  {
   "cell_type": "markdown",
   "id": "a7a8fe18",
   "metadata": {},
   "source": [
    "### Array data can be hard coded when needed as well"
   ]
  },
  {
   "cell_type": "code",
   "execution_count": 13,
   "id": "0120e5b2",
   "metadata": {},
   "outputs": [
    {
     "name": "stderr",
     "output_type": "stream",
     "text": [
      "Query complete after 0.02s: 100%|█████████████████████████████████████████████████████████████████████████████████████████████████████████████| 1/1 [00:00<00:00, 100.54query/s]\n",
      "Downloading: 100%|██████████████████████████████████████████████████████████████████████████████████████████████████████████████████████████████| 1/1 [00:01<00:00,  1.41s/rows]\n"
     ]
    },
    {
     "data": {
      "text/html": [
       "<div>\n",
       "<style scoped>\n",
       "    .dataframe tbody tr th:only-of-type {\n",
       "        vertical-align: middle;\n",
       "    }\n",
       "\n",
       "    .dataframe tbody tr th {\n",
       "        vertical-align: top;\n",
       "    }\n",
       "\n",
       "    .dataframe thead th {\n",
       "        text-align: right;\n",
       "    }\n",
       "</style>\n",
       "<table border=\"1\" class=\"dataframe\">\n",
       "  <thead>\n",
       "    <tr style=\"text-align: right;\">\n",
       "      <th></th>\n",
       "      <th>people</th>\n",
       "    </tr>\n",
       "  </thead>\n",
       "  <tbody>\n",
       "    <tr>\n",
       "      <th>0</th>\n",
       "      <td>[Michael, Jordan, Graham]</td>\n",
       "    </tr>\n",
       "  </tbody>\n",
       "</table>\n",
       "</div>"
      ],
      "text/plain": [
       "                      people\n",
       "0  [Michael, Jordan, Graham]"
      ]
     },
     "execution_count": 13,
     "metadata": {},
     "output_type": "execute_result"
    }
   ],
   "source": [
    "%%bigquery\n",
    "\n",
    "SELECT ['Michael', 'Jordan', 'Graham'] as people"
   ]
  },
  {
   "cell_type": "markdown",
   "id": "6483403b",
   "metadata": {},
   "source": [
    "### Combining data from two arrays into a table"
   ]
  },
  {
   "cell_type": "code",
   "execution_count": 15,
   "id": "0d52667f",
   "metadata": {},
   "outputs": [
    {
     "name": "stderr",
     "output_type": "stream",
     "text": [
      "Query complete after 0.01s: 100%|█████████████████████████████████████████████████████████████████████████████████████████████████████████████| 3/3 [00:00<00:00, 736.40query/s]\n",
      "Downloading: 100%|██████████████████████████████████████████████████████████████████████████████████████████████████████████████████████████████| 7/7 [00:01<00:00,  5.28rows/s]\n"
     ]
    },
    {
     "data": {
      "text/html": [
       "<div>\n",
       "<style scoped>\n",
       "    .dataframe tbody tr th:only-of-type {\n",
       "        vertical-align: middle;\n",
       "    }\n",
       "\n",
       "    .dataframe tbody tr th {\n",
       "        vertical-align: top;\n",
       "    }\n",
       "\n",
       "    .dataframe thead th {\n",
       "        text-align: right;\n",
       "    }\n",
       "</style>\n",
       "<table border=\"1\" class=\"dataframe\">\n",
       "  <thead>\n",
       "    <tr style=\"text-align: right;\">\n",
       "      <th></th>\n",
       "      <th>summer_day</th>\n",
       "      <th>people</th>\n",
       "    </tr>\n",
       "  </thead>\n",
       "  <tbody>\n",
       "    <tr>\n",
       "      <th>0</th>\n",
       "      <td>2019-06-23</td>\n",
       "      <td>Jordan</td>\n",
       "    </tr>\n",
       "    <tr>\n",
       "      <th>1</th>\n",
       "      <td>2019-07-03</td>\n",
       "      <td>Graham</td>\n",
       "    </tr>\n",
       "    <tr>\n",
       "      <th>2</th>\n",
       "      <td>2019-07-13</td>\n",
       "      <td>Michael</td>\n",
       "    </tr>\n",
       "    <tr>\n",
       "      <th>3</th>\n",
       "      <td>2019-07-23</td>\n",
       "      <td>Jordan</td>\n",
       "    </tr>\n",
       "    <tr>\n",
       "      <th>4</th>\n",
       "      <td>2019-08-02</td>\n",
       "      <td>Graham</td>\n",
       "    </tr>\n",
       "    <tr>\n",
       "      <th>5</th>\n",
       "      <td>2019-08-12</td>\n",
       "      <td>Michael</td>\n",
       "    </tr>\n",
       "    <tr>\n",
       "      <th>6</th>\n",
       "      <td>2019-08-22</td>\n",
       "      <td>Jordan</td>\n",
       "    </tr>\n",
       "  </tbody>\n",
       "</table>\n",
       "</div>"
      ],
      "text/plain": [
       "   summer_day   people\n",
       "0  2019-06-23   Jordan\n",
       "1  2019-07-03   Graham\n",
       "2  2019-07-13  Michael\n",
       "3  2019-07-23   Jordan\n",
       "4  2019-08-02   Graham\n",
       "5  2019-08-12  Michael\n",
       "6  2019-08-22   Jordan"
      ]
     },
     "execution_count": 15,
     "metadata": {},
     "output_type": "execute_result"
    }
   ],
   "source": [
    "%%bigquery\n",
    "\n",
    "WITH\n",
    "  days AS (\n",
    "  SELECT\n",
    "    GENERATE_DATE_ARRAY('2019-06-23', '2019-08-22', INTERVAL 10 DAY) AS summer,\n",
    "    ['Michael',\n",
    "    'Jordan',\n",
    "    'Graham'] AS people )\n",
    "SELECT\n",
    "  summer[ORDINAL(dayno)] AS summer_day,\n",
    "  people[\n",
    "OFFSET\n",
    "  (MOD(dayno, ARRAY_LENGTH(people)))] AS people\n",
    "FROM\n",
    "  days,\n",
    "  UNNEST(GENERATE_ARRAY(1, ARRAY_LENGTH(summer), 1)) dayno\n",
    "ORDER BY\n",
    "  summer_day ASC"
   ]
  },
  {
   "cell_type": "markdown",
   "id": "2e126d6a",
   "metadata": {},
   "source": [
    "** Both OFFSET and ORDINAL functions have similar use case, difference is OFFSET starts with 0, ORDINAL with 1**"
   ]
  },
  {
   "cell_type": "markdown",
   "id": "2d701e2d",
   "metadata": {},
   "source": [
    "## Concatenating Arrays"
   ]
  },
  {
   "cell_type": "code",
   "execution_count": 16,
   "id": "8d13be97",
   "metadata": {},
   "outputs": [
    {
     "name": "stderr",
     "output_type": "stream",
     "text": [
      "Query complete after 0.07s: 100%|██████████████████████████████████████████████████████████████████████████████████████████████████████████████| 1/1 [00:00<00:00, 32.42query/s]\n",
      "Downloading: 100%|██████████████████████████████████████████████████████████████████████████████████████████████████████████████████████████████| 1/1 [00:01<00:00,  1.44s/rows]\n"
     ]
    },
    {
     "data": {
      "text/html": [
       "<div>\n",
       "<style scoped>\n",
       "    .dataframe tbody tr th:only-of-type {\n",
       "        vertical-align: middle;\n",
       "    }\n",
       "\n",
       "    .dataframe tbody tr th {\n",
       "        vertical-align: top;\n",
       "    }\n",
       "\n",
       "    .dataframe thead th {\n",
       "        text-align: right;\n",
       "    }\n",
       "</style>\n",
       "<table border=\"1\" class=\"dataframe\">\n",
       "  <thead>\n",
       "    <tr style=\"text-align: right;\">\n",
       "      <th></th>\n",
       "      <th>all_season</th>\n",
       "    </tr>\n",
       "  </thead>\n",
       "  <tbody>\n",
       "    <tr>\n",
       "      <th>0</th>\n",
       "      <td>[2019-03-23, 2019-04-12, 2019-05-02, 2019-05-2...</td>\n",
       "    </tr>\n",
       "  </tbody>\n",
       "</table>\n",
       "</div>"
      ],
      "text/plain": [
       "                                          all_season\n",
       "0  [2019-03-23, 2019-04-12, 2019-05-02, 2019-05-2..."
      ]
     },
     "execution_count": 16,
     "metadata": {},
     "output_type": "execute_result"
    }
   ],
   "source": [
    "%%bigquery\n",
    "\n",
    "SELECT ARRAY_CONCAT(\n",
    "    GENERATE_DATE_ARRAY('2019-03-23', '2019-06-22', INTERVAL 20 DAY),\n",
    "    GENERATE_DATE_ARRAY('2019-08-23', '2019-11-22', INTERVAL 20 DAY)\n",
    ") AS all_season"
   ]
  },
  {
   "cell_type": "markdown",
   "id": "335e9fba",
   "metadata": {},
   "source": [
    "## Other useful functions"
   ]
  },
  {
   "cell_type": "markdown",
   "id": "ea3ff0b7",
   "metadata": {},
   "source": [
    "### ARRAY_TO_STRING (useful for debugging)"
   ]
  },
  {
   "cell_type": "code",
   "execution_count": 18,
   "id": "93a2a9f5",
   "metadata": {},
   "outputs": [
    {
     "name": "stderr",
     "output_type": "stream",
     "text": [
      "Query complete after 0.01s: 100%|█████████████████████████████████████████████████████████████████████████████████████████████████████████████| 1/1 [00:00<00:00, 165.48query/s]\n",
      "Downloading: 100%|██████████████████████████████████████████████████████████████████████████████████████████████████████████████████████████████| 1/1 [00:01<00:00,  1.36s/rows]\n"
     ]
    },
    {
     "data": {
      "text/html": [
       "<div>\n",
       "<style scoped>\n",
       "    .dataframe tbody tr th:only-of-type {\n",
       "        vertical-align: middle;\n",
       "    }\n",
       "\n",
       "    .dataframe tbody tr th {\n",
       "        vertical-align: top;\n",
       "    }\n",
       "\n",
       "    .dataframe thead th {\n",
       "        text-align: right;\n",
       "    }\n",
       "</style>\n",
       "<table border=\"1\" class=\"dataframe\">\n",
       "  <thead>\n",
       "    <tr style=\"text-align: right;\">\n",
       "      <th></th>\n",
       "      <th>arr</th>\n",
       "    </tr>\n",
       "  </thead>\n",
       "  <tbody>\n",
       "    <tr>\n",
       "      <th>0</th>\n",
       "      <td>A*B*na*D</td>\n",
       "    </tr>\n",
       "  </tbody>\n",
       "</table>\n",
       "</div>"
      ],
      "text/plain": [
       "        arr\n",
       "0  A*B*na*D"
      ]
     },
     "execution_count": 18,
     "metadata": {},
     "output_type": "execute_result"
    }
   ],
   "source": [
    "%%bigquery\n",
    "\n",
    "-- * is used as a seperator\n",
    "-- na is set as a placeholder for NULL value\n",
    "\n",
    "SELECT ARRAY_TO_STRING(['A', 'B', NULL, 'D'], '*', 'na') AS arr"
   ]
  }
 ],
 "metadata": {
  "kernelspec": {
   "display_name": "Python 3 (ipykernel)",
   "language": "python",
   "name": "python3"
  },
  "language_info": {
   "codemirror_mode": {
    "name": "ipython",
    "version": 3
   },
   "file_extension": ".py",
   "mimetype": "text/x-python",
   "name": "python",
   "nbconvert_exporter": "python",
   "pygments_lexer": "ipython3",
   "version": "3.8.12"
  }
 },
 "nbformat": 4,
 "nbformat_minor": 5
}
