{
 "cells": [
  {
   "cell_type": "code",
   "execution_count": 1,
   "id": "eb008339",
   "metadata": {},
   "outputs": [],
   "source": [
    "%load_ext google.cloud.bigquery"
   ]
  },
  {
   "cell_type": "markdown",
   "id": "70ef06ae-7ff2-46a6-b8d7-87ed4e89c223",
   "metadata": {},
   "source": [
    "## Aggregate Analytical function"
   ]
  },
  {
   "cell_type": "markdown",
   "id": "b3a8a6a0-d85f-4443-a05d-0311ed7a2afc",
   "metadata": {},
   "source": [
    "General example on applying average across the whole table."
   ]
  },
  {
   "cell_type": "code",
   "execution_count": 2,
   "id": "3bdcee04-6f57-45bd-82fe-134fd3629e73",
   "metadata": {},
   "outputs": [
    {
     "name": "stderr",
     "output_type": "stream",
     "text": [
      "Query complete after 0.03s: 100%|█████████████████████████████████████████████████████████████████████████████████████████████████████████████| 2/2 [00:00<00:00, 498.22query/s]\n",
      "Downloading: 100%|██████████████████████████████████████████████████████████████████████████████████████████████████████████████████████████████| 1/1 [00:01<00:00,  1.26s/rows]\n"
     ]
    },
    {
     "data": {
      "text/html": [
       "<div>\n",
       "<style scoped>\n",
       "    .dataframe tbody tr th:only-of-type {\n",
       "        vertical-align: middle;\n",
       "    }\n",
       "\n",
       "    .dataframe tbody tr th {\n",
       "        vertical-align: top;\n",
       "    }\n",
       "\n",
       "    .dataframe thead th {\n",
       "        text-align: right;\n",
       "    }\n",
       "</style>\n",
       "<table border=\"1\" class=\"dataframe\">\n",
       "  <thead>\n",
       "    <tr style=\"text-align: right;\">\n",
       "      <th></th>\n",
       "      <th>longest_duration</th>\n",
       "      <th>num_trips</th>\n",
       "    </tr>\n",
       "  </thead>\n",
       "  <tbody>\n",
       "    <tr>\n",
       "      <th>0</th>\n",
       "      <td>2674020</td>\n",
       "      <td>24369201</td>\n",
       "    </tr>\n",
       "  </tbody>\n",
       "</table>\n",
       "</div>"
      ],
      "text/plain": [
       "   longest_duration  num_trips\n",
       "0           2674020   24369201"
      ]
     },
     "execution_count": 2,
     "metadata": {},
     "output_type": "execute_result"
    }
   ],
   "source": [
    "%%bigquery\n",
    "SELECT\n",
    "  MAX(duration) AS longest_duration,\n",
    "  COUNT(*) AS num_trips,\n",
    "\n",
    "FROM\n",
    " dataflow-templates-327714.bigquery_examples.cycle_hire"
   ]
  },
  {
   "cell_type": "markdown",
   "id": "5a06018c-05b7-4a7f-bd30-62196be11517",
   "metadata": {},
   "source": [
    "### Aggregate statistic relative to each row (last 100) using WINDOW\n",
    "\n",
    "This is basically the relative average (last 100 rows before current row)"
   ]
  },
  {
   "cell_type": "code",
   "execution_count": 3,
   "id": "452b9057-f38e-4db7-9b1f-1ed71932cc4d",
   "metadata": {},
   "outputs": [
    {
     "name": "stderr",
     "output_type": "stream",
     "text": [
      "Query complete after 0.01s: 100%|████████████████████████████████████████████████████████████████████████████████████████████████████████████| 4/4 [00:00<00:00, 1187.60query/s]\n",
      "Downloading: 100%|███████████████████████████████████████████████████████████████████████████████████████████████████████████| 24369201/24369201 [00:05<00:00, 4832059.17rows/s]\n"
     ]
    },
    {
     "data": {
      "text/html": [
       "<div>\n",
       "<style scoped>\n",
       "    .dataframe tbody tr th:only-of-type {\n",
       "        vertical-align: middle;\n",
       "    }\n",
       "\n",
       "    .dataframe tbody tr th {\n",
       "        vertical-align: top;\n",
       "    }\n",
       "\n",
       "    .dataframe thead th {\n",
       "        text-align: right;\n",
       "    }\n",
       "</style>\n",
       "<table border=\"1\" class=\"dataframe\">\n",
       "  <thead>\n",
       "    <tr style=\"text-align: right;\">\n",
       "      <th></th>\n",
       "      <th>avg_duration</th>\n",
       "    </tr>\n",
       "  </thead>\n",
       "  <tbody>\n",
       "    <tr>\n",
       "      <th>0</th>\n",
       "      <td>380.000000</td>\n",
       "    </tr>\n",
       "    <tr>\n",
       "      <th>1</th>\n",
       "      <td>720.000000</td>\n",
       "    </tr>\n",
       "    <tr>\n",
       "      <th>2</th>\n",
       "      <td>722.068966</td>\n",
       "    </tr>\n",
       "    <tr>\n",
       "      <th>3</th>\n",
       "      <td>739.148936</td>\n",
       "    </tr>\n",
       "    <tr>\n",
       "      <th>4</th>\n",
       "      <td>731.785714</td>\n",
       "    </tr>\n",
       "    <tr>\n",
       "      <th>...</th>\n",
       "      <td>...</td>\n",
       "    </tr>\n",
       "    <tr>\n",
       "      <th>24369196</th>\n",
       "      <td>1142.400000</td>\n",
       "    </tr>\n",
       "    <tr>\n",
       "      <th>24369197</th>\n",
       "      <td>1138.800000</td>\n",
       "    </tr>\n",
       "    <tr>\n",
       "      <th>24369198</th>\n",
       "      <td>1185.600000</td>\n",
       "    </tr>\n",
       "    <tr>\n",
       "      <th>24369199</th>\n",
       "      <td>1152.000000</td>\n",
       "    </tr>\n",
       "    <tr>\n",
       "      <th>24369200</th>\n",
       "      <td>1074.000000</td>\n",
       "    </tr>\n",
       "  </tbody>\n",
       "</table>\n",
       "<p>24369201 rows × 1 columns</p>\n",
       "</div>"
      ],
      "text/plain": [
       "          avg_duration\n",
       "0           380.000000\n",
       "1           720.000000\n",
       "2           722.068966\n",
       "3           739.148936\n",
       "4           731.785714\n",
       "...                ...\n",
       "24369196   1142.400000\n",
       "24369197   1138.800000\n",
       "24369198   1185.600000\n",
       "24369199   1152.000000\n",
       "24369200   1074.000000\n",
       "\n",
       "[24369201 rows x 1 columns]"
      ]
     },
     "execution_count": 3,
     "metadata": {},
     "output_type": "execute_result"
    }
   ],
   "source": [
    "%%bigquery\n",
    "SELECT\n",
    "  AVG(duration) OVER(\n",
    "    ORDER BY start_date \n",
    "    ASC ROWS BETWEEN 100 PRECEDING AND 1 PRECEDING) AS avg_duration\n",
    "FROM\n",
    "  dataflow-templates-327714.bigquery_examples.cycle_hire"
   ]
  },
  {
   "cell_type": "markdown",
   "id": "3da8fe85-e7f9-4def-90ca-a91922fd1a25",
   "metadata": {},
   "source": [
    "### Aggregate statistic relative to each row (last 100) using WINDOW with filtering\n",
    "Last 100 average relative to current row, with filtering on unique start_station_id"
   ]
  },
  {
   "cell_type": "code",
   "execution_count": 4,
   "id": "1925c590-a6f1-46c7-8ec1-bce6cc57a61f",
   "metadata": {},
   "outputs": [
    {
     "name": "stderr",
     "output_type": "stream",
     "text": [
      "Query complete after 0.01s: 100%|█████████████████████████████████████████████████████████████████████████████████████████████████████████████| 4/4 [00:00<00:00, 867.31query/s]\n",
      "Downloading: 100%|███████████████████████████████████████████████████████████████████████████████████████████████████████████| 24369201/24369201 [00:04<00:00, 5327559.66rows/s]\n"
     ]
    },
    {
     "data": {
      "text/html": [
       "<div>\n",
       "<style scoped>\n",
       "    .dataframe tbody tr th:only-of-type {\n",
       "        vertical-align: middle;\n",
       "    }\n",
       "\n",
       "    .dataframe tbody tr th {\n",
       "        vertical-align: top;\n",
       "    }\n",
       "\n",
       "    .dataframe thead th {\n",
       "        text-align: right;\n",
       "    }\n",
       "</style>\n",
       "<table border=\"1\" class=\"dataframe\">\n",
       "  <thead>\n",
       "    <tr style=\"text-align: right;\">\n",
       "      <th></th>\n",
       "      <th>avg_duration</th>\n",
       "    </tr>\n",
       "  </thead>\n",
       "  <tbody>\n",
       "    <tr>\n",
       "      <th>0</th>\n",
       "      <td>2861.4</td>\n",
       "    </tr>\n",
       "    <tr>\n",
       "      <th>1</th>\n",
       "      <td>2859.0</td>\n",
       "    </tr>\n",
       "    <tr>\n",
       "      <th>2</th>\n",
       "      <td>2895.0</td>\n",
       "    </tr>\n",
       "    <tr>\n",
       "      <th>3</th>\n",
       "      <td>2874.0</td>\n",
       "    </tr>\n",
       "    <tr>\n",
       "      <th>4</th>\n",
       "      <td>2868.6</td>\n",
       "    </tr>\n",
       "    <tr>\n",
       "      <th>...</th>\n",
       "      <td>...</td>\n",
       "    </tr>\n",
       "    <tr>\n",
       "      <th>24369196</th>\n",
       "      <td>1108.2</td>\n",
       "    </tr>\n",
       "    <tr>\n",
       "      <th>24369197</th>\n",
       "      <td>969.0</td>\n",
       "    </tr>\n",
       "    <tr>\n",
       "      <th>24369198</th>\n",
       "      <td>895.2</td>\n",
       "    </tr>\n",
       "    <tr>\n",
       "      <th>24369199</th>\n",
       "      <td>885.0</td>\n",
       "    </tr>\n",
       "    <tr>\n",
       "      <th>24369200</th>\n",
       "      <td>883.2</td>\n",
       "    </tr>\n",
       "  </tbody>\n",
       "</table>\n",
       "<p>24369201 rows × 1 columns</p>\n",
       "</div>"
      ],
      "text/plain": [
       "          avg_duration\n",
       "0               2861.4\n",
       "1               2859.0\n",
       "2               2895.0\n",
       "3               2874.0\n",
       "4               2868.6\n",
       "...                ...\n",
       "24369196        1108.2\n",
       "24369197         969.0\n",
       "24369198         895.2\n",
       "24369199         885.0\n",
       "24369200         883.2\n",
       "\n",
       "[24369201 rows x 1 columns]"
      ]
     },
     "execution_count": 4,
     "metadata": {},
     "output_type": "execute_result"
    }
   ],
   "source": [
    "%%bigquery\n",
    "SELECT\n",
    "  AVG(duration) OVER(\n",
    "    PARTITION BY start_station_id \n",
    "    ORDER BY start_date \n",
    "    ASC ROWS BETWEEN 100 PRECEDING AND 1 PRECEDING) AS avg_duration\n",
    "FROM\n",
    "  dataflow-templates-327714.bigquery_examples.cycle_hire"
   ]
  },
  {
   "cell_type": "markdown",
   "id": "44c3bc95-88c4-48c9-ab5a-90bd168d127e",
   "metadata": {},
   "source": [
    "## Navigation functions i.e. data on specific rows relative to current\n",
    "\n",
    "Fetching a single value denoted by the location of the row \n",
    "e.g. Finding the \"next\" rental of a bike relative to the current row."
   ]
  },
  {
   "cell_type": "code",
   "execution_count": 5,
   "id": "a7c6f5aa-951c-49a3-b608-2744489fc179",
   "metadata": {},
   "outputs": [
    {
     "name": "stderr",
     "output_type": "stream",
     "text": [
      "Query complete after 0.00s: 100%|█████████████████████████████████████████████████████████████████████████████████████████████████████████████| 1/1 [00:00<00:00, 659.69query/s]\n",
      "Downloading: 100%|██████████████████████████████████████████████████████████████████████████████████████████████████████████████████████████████| 5/5 [00:01<00:00,  3.87rows/s]\n"
     ]
    },
    {
     "data": {
      "text/html": [
       "<div>\n",
       "<style scoped>\n",
       "    .dataframe tbody tr th:only-of-type {\n",
       "        vertical-align: middle;\n",
       "    }\n",
       "\n",
       "    .dataframe tbody tr th {\n",
       "        vertical-align: top;\n",
       "    }\n",
       "\n",
       "    .dataframe thead th {\n",
       "        text-align: right;\n",
       "    }\n",
       "</style>\n",
       "<table border=\"1\" class=\"dataframe\">\n",
       "  <thead>\n",
       "    <tr style=\"text-align: right;\">\n",
       "      <th></th>\n",
       "      <th>start_date</th>\n",
       "      <th>end_date</th>\n",
       "      <th>next_rental_start</th>\n",
       "    </tr>\n",
       "  </thead>\n",
       "  <tbody>\n",
       "    <tr>\n",
       "      <th>0</th>\n",
       "      <td>2015-01-05 09:04:00+00:00</td>\n",
       "      <td>2015-01-05 09:18:00+00:00</td>\n",
       "      <td>2015-01-05 12:16:00+00:00</td>\n",
       "    </tr>\n",
       "    <tr>\n",
       "      <th>1</th>\n",
       "      <td>2015-01-05 12:16:00+00:00</td>\n",
       "      <td>2015-01-05 12:36:00+00:00</td>\n",
       "      <td>2015-01-05 17:35:00+00:00</td>\n",
       "    </tr>\n",
       "    <tr>\n",
       "      <th>2</th>\n",
       "      <td>2015-01-05 17:35:00+00:00</td>\n",
       "      <td>2015-01-05 17:42:00+00:00</td>\n",
       "      <td>2015-01-06 08:55:00+00:00</td>\n",
       "    </tr>\n",
       "    <tr>\n",
       "      <th>3</th>\n",
       "      <td>2015-01-06 08:55:00+00:00</td>\n",
       "      <td>2015-01-06 09:07:00+00:00</td>\n",
       "      <td>2015-01-06 14:42:00+00:00</td>\n",
       "    </tr>\n",
       "    <tr>\n",
       "      <th>4</th>\n",
       "      <td>2015-01-06 14:42:00+00:00</td>\n",
       "      <td>2015-01-06 14:57:00+00:00</td>\n",
       "      <td>2015-01-09 08:24:00+00:00</td>\n",
       "    </tr>\n",
       "  </tbody>\n",
       "</table>\n",
       "</div>"
      ],
      "text/plain": [
       "                 start_date                  end_date  \\\n",
       "0 2015-01-05 09:04:00+00:00 2015-01-05 09:18:00+00:00   \n",
       "1 2015-01-05 12:16:00+00:00 2015-01-05 12:36:00+00:00   \n",
       "2 2015-01-05 17:35:00+00:00 2015-01-05 17:42:00+00:00   \n",
       "3 2015-01-06 08:55:00+00:00 2015-01-06 09:07:00+00:00   \n",
       "4 2015-01-06 14:42:00+00:00 2015-01-06 14:57:00+00:00   \n",
       "\n",
       "          next_rental_start  \n",
       "0 2015-01-05 12:16:00+00:00  \n",
       "1 2015-01-05 17:35:00+00:00  \n",
       "2 2015-01-06 08:55:00+00:00  \n",
       "3 2015-01-06 14:42:00+00:00  \n",
       "4 2015-01-09 08:24:00+00:00  "
      ]
     },
     "execution_count": 5,
     "metadata": {},
     "output_type": "execute_result"
    }
   ],
   "source": [
    "%%bigquery\n",
    "SELECT\n",
    "  start_date,\n",
    "  end_date,\n",
    "  LAST_VALUE(start_date) OVER(\n",
    "    PARTITION BY bike_id ORDER BY start_date ASC \n",
    "    ROWS BETWEEN CURRENT ROW AND 1 FOLLOWING) AS next_rental_start\n",
    "FROM\n",
    "  dataflow-templates-327714.bigquery_examples.cycle_hire\n",
    "LIMIT\n",
    "  5"
   ]
  },
  {
   "cell_type": "markdown",
   "id": "41e4cfe7-6941-4773-ae7a-524680841f0e",
   "metadata": {},
   "source": [
    "## Numbering functions (Ranking)\n",
    "e.g. Find the 5 longest trips start started at each of the stations"
   ]
  },
  {
   "cell_type": "code",
   "execution_count": 6,
   "id": "7be8ea39-3c2a-41e5-95c6-014157817aec",
   "metadata": {},
   "outputs": [
    {
     "name": "stderr",
     "output_type": "stream",
     "text": [
      "Query complete after 0.00s: 100%|████████████████████████████████████████████████████████████████████████████████████████████████████████████| 5/5 [00:00<00:00, 1662.82query/s]\n",
      "Downloading: 100%|██████████████████████████████████████████████████████████████████████████████████████████████████████████████████████████████| 5/5 [00:01<00:00,  3.78rows/s]\n"
     ]
    },
    {
     "data": {
      "text/html": [
       "<div>\n",
       "<style scoped>\n",
       "    .dataframe tbody tr th:only-of-type {\n",
       "        vertical-align: middle;\n",
       "    }\n",
       "\n",
       "    .dataframe tbody tr th {\n",
       "        vertical-align: top;\n",
       "    }\n",
       "\n",
       "    .dataframe thead th {\n",
       "        text-align: right;\n",
       "    }\n",
       "</style>\n",
       "<table border=\"1\" class=\"dataframe\">\n",
       "  <thead>\n",
       "    <tr style=\"text-align: right;\">\n",
       "      <th></th>\n",
       "      <th>start_station_id</th>\n",
       "      <th>duration</th>\n",
       "      <th>nth_longest</th>\n",
       "    </tr>\n",
       "  </thead>\n",
       "  <tbody>\n",
       "    <tr>\n",
       "      <th>0</th>\n",
       "      <td>26</td>\n",
       "      <td>267120</td>\n",
       "      <td>1</td>\n",
       "    </tr>\n",
       "    <tr>\n",
       "      <th>1</th>\n",
       "      <td>26</td>\n",
       "      <td>192600</td>\n",
       "      <td>2</td>\n",
       "    </tr>\n",
       "    <tr>\n",
       "      <th>2</th>\n",
       "      <td>26</td>\n",
       "      <td>191880</td>\n",
       "      <td>3</td>\n",
       "    </tr>\n",
       "    <tr>\n",
       "      <th>3</th>\n",
       "      <td>26</td>\n",
       "      <td>148500</td>\n",
       "      <td>4</td>\n",
       "    </tr>\n",
       "    <tr>\n",
       "      <th>4</th>\n",
       "      <td>26</td>\n",
       "      <td>142020</td>\n",
       "      <td>5</td>\n",
       "    </tr>\n",
       "  </tbody>\n",
       "</table>\n",
       "</div>"
      ],
      "text/plain": [
       "   start_station_id  duration  nth_longest\n",
       "0                26    267120            1\n",
       "1                26    192600            2\n",
       "2                26    191880            3\n",
       "3                26    148500            4\n",
       "4                26    142020            5"
      ]
     },
     "execution_count": 6,
     "metadata": {},
     "output_type": "execute_result"
    }
   ],
   "source": [
    "%%bigquery\n",
    "SELECT start_station_id, duration, RANK()\n",
    "  OVER(PARTITION BY start_station_id ORDER BY duration DESC) as nth_longest\n",
    "FROM \n",
    "  dataflow-templates-327714.bigquery_examples.cycle_hire\n",
    "LIMIT\n",
    "  5"
   ]
  },
  {
   "cell_type": "markdown",
   "id": "d2ef9188-e18b-4e89-a802-4f9536d8375b",
   "metadata": {},
   "source": [
    "### Finding the top 3 per station"
   ]
  },
  {
   "cell_type": "code",
   "execution_count": 7,
   "id": "c6498460-614d-43ad-afce-dd00d6cee849",
   "metadata": {},
   "outputs": [
    {
     "name": "stderr",
     "output_type": "stream",
     "text": [
      "Query complete after 0.01s: 100%|████████████████████████████████████████████████████████████████████████████████████████████████████████████| 6/6 [00:00<00:00, 1358.41query/s]\n",
      "Downloading: 100%|██████████████████████████████████████████████████████████████████████████████████████████████████████████████████████████████| 5/5 [00:01<00:00,  4.85rows/s]\n"
     ]
    },
    {
     "data": {
      "text/html": [
       "<div>\n",
       "<style scoped>\n",
       "    .dataframe tbody tr th:only-of-type {\n",
       "        vertical-align: middle;\n",
       "    }\n",
       "\n",
       "    .dataframe tbody tr th {\n",
       "        vertical-align: top;\n",
       "    }\n",
       "\n",
       "    .dataframe thead th {\n",
       "        text-align: right;\n",
       "    }\n",
       "</style>\n",
       "<table border=\"1\" class=\"dataframe\">\n",
       "  <thead>\n",
       "    <tr style=\"text-align: right;\">\n",
       "      <th></th>\n",
       "      <th>start_station_id</th>\n",
       "      <th>durations</th>\n",
       "    </tr>\n",
       "  </thead>\n",
       "  <tbody>\n",
       "    <tr>\n",
       "      <th>0</th>\n",
       "      <td>819</td>\n",
       "      <td>[88080, 69240, 63420]</td>\n",
       "    </tr>\n",
       "    <tr>\n",
       "      <th>1</th>\n",
       "      <td>56</td>\n",
       "      <td>[246900, 229500, 201000]</td>\n",
       "    </tr>\n",
       "    <tr>\n",
       "      <th>2</th>\n",
       "      <td>40</td>\n",
       "      <td>[1129200, 435180, 306600]</td>\n",
       "    </tr>\n",
       "    <tr>\n",
       "      <th>3</th>\n",
       "      <td>754</td>\n",
       "      <td>[1041960, 262560, 214260]</td>\n",
       "    </tr>\n",
       "    <tr>\n",
       "      <th>4</th>\n",
       "      <td>784</td>\n",
       "      <td>[250320, 250200, 194880]</td>\n",
       "    </tr>\n",
       "  </tbody>\n",
       "</table>\n",
       "</div>"
      ],
      "text/plain": [
       "   start_station_id                  durations\n",
       "0               819      [88080, 69240, 63420]\n",
       "1                56   [246900, 229500, 201000]\n",
       "2                40  [1129200, 435180, 306600]\n",
       "3               754  [1041960, 262560, 214260]\n",
       "4               784   [250320, 250200, 194880]"
      ]
     },
     "execution_count": 7,
     "metadata": {},
     "output_type": "execute_result"
    }
   ],
   "source": [
    "%%bigquery\n",
    "\n",
    "WITH longest_trips AS (\n",
    "    SELECT\n",
    "        start_station_id,\n",
    "        duration,\n",
    "        RANK() OVER(PARTITION BY start_station_id ORDER BY duration DESC) as nth_longest\n",
    "    FROM dataflow-templates-327714.bigquery_examples.cycle_hire)\n",
    "\n",
    "SELECT \n",
    "    start_station_id,\n",
    "    ARRAY_AGG(duration ORDER BY nth_longest LIMIT 3) as durations\n",
    "    FROM longest_trips\n",
    "    GROUP BY start_station_id\n",
    "    LIMIT 5"
   ]
  },
  {
   "cell_type": "code",
   "execution_count": null,
   "id": "f4929dc3",
   "metadata": {},
   "outputs": [],
   "source": []
  }
 ],
 "metadata": {
  "environment": {
   "kernel": "python3",
   "name": "common-cpu.m93",
   "type": "gcloud",
   "uri": "gcr.io/deeplearning-platform-release/base-cpu:m93"
  },
  "kernelspec": {
   "display_name": "Python 3 (ipykernel)",
   "language": "python",
   "name": "python3"
  },
  "language_info": {
   "codemirror_mode": {
    "name": "ipython",
    "version": 3
   },
   "file_extension": ".py",
   "mimetype": "text/x-python",
   "name": "python",
   "nbconvert_exporter": "python",
   "pygments_lexer": "ipython3",
   "version": "3.8.12"
  }
 },
 "nbformat": 4,
 "nbformat_minor": 5
}
