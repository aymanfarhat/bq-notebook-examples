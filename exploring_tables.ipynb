{
 "cells": [
  {
   "cell_type": "code",
   "execution_count": 1,
   "id": "d4433d8e",
   "metadata": {},
   "outputs": [],
   "source": [
    "%load_ext google.cloud.bigquery"
   ]
  },
  {
   "cell_type": "code",
   "execution_count": 2,
   "id": "4fbf58f8",
   "metadata": {},
   "outputs": [
    {
     "name": "stderr",
     "output_type": "stream",
     "text": [
      "Query complete after 0.03s: 100%|█████████████████████████████████████████████████████████████████████████████████████████████████████████████| 1/1 [00:00<00:00, 171.50query/s]\n",
      "Downloading: 100%|██████████████████████████████████████████████████████████████████████████████████████████████████████████████████████████████| 4/4 [00:01<00:00,  2.70rows/s]\n"
     ]
    },
    {
     "data": {
      "text/html": [
       "<div>\n",
       "<style scoped>\n",
       "    .dataframe tbody tr th:only-of-type {\n",
       "        vertical-align: middle;\n",
       "    }\n",
       "\n",
       "    .dataframe tbody tr th {\n",
       "        vertical-align: top;\n",
       "    }\n",
       "\n",
       "    .dataframe thead th {\n",
       "        text-align: right;\n",
       "    }\n",
       "</style>\n",
       "<table border=\"1\" class=\"dataframe\">\n",
       "  <thead>\n",
       "    <tr style=\"text-align: right;\">\n",
       "      <th></th>\n",
       "      <th>table_schema</th>\n",
       "      <th>table_name</th>\n",
       "      <th>table_type</th>\n",
       "      <th>ddl</th>\n",
       "    </tr>\n",
       "  </thead>\n",
       "  <tbody>\n",
       "    <tr>\n",
       "      <th>0</th>\n",
       "      <td>bigquery_examples</td>\n",
       "      <td>typical_trip</td>\n",
       "      <td>BASE TABLE</td>\n",
       "      <td>CREATE TABLE `dataflow-templates-327714.bigque...</td>\n",
       "    </tr>\n",
       "    <tr>\n",
       "      <th>1</th>\n",
       "      <td>bigquery_examples</td>\n",
       "      <td>cycle_hire</td>\n",
       "      <td>BASE TABLE</td>\n",
       "      <td>CREATE TABLE `dataflow-templates-327714.bigque...</td>\n",
       "    </tr>\n",
       "    <tr>\n",
       "      <th>2</th>\n",
       "      <td>bigquery_examples</td>\n",
       "      <td>unusual_days</td>\n",
       "      <td>BASE TABLE</td>\n",
       "      <td>CREATE TABLE `dataflow-templates-327714.bigque...</td>\n",
       "    </tr>\n",
       "    <tr>\n",
       "      <th>3</th>\n",
       "      <td>bigquery_examples</td>\n",
       "      <td>cycle_stations</td>\n",
       "      <td>BASE TABLE</td>\n",
       "      <td>CREATE TABLE `dataflow-templates-327714.bigque...</td>\n",
       "    </tr>\n",
       "  </tbody>\n",
       "</table>\n",
       "</div>"
      ],
      "text/plain": [
       "        table_schema      table_name  table_type  \\\n",
       "0  bigquery_examples    typical_trip  BASE TABLE   \n",
       "1  bigquery_examples      cycle_hire  BASE TABLE   \n",
       "2  bigquery_examples    unusual_days  BASE TABLE   \n",
       "3  bigquery_examples  cycle_stations  BASE TABLE   \n",
       "\n",
       "                                                 ddl  \n",
       "0  CREATE TABLE `dataflow-templates-327714.bigque...  \n",
       "1  CREATE TABLE `dataflow-templates-327714.bigque...  \n",
       "2  CREATE TABLE `dataflow-templates-327714.bigque...  \n",
       "3  CREATE TABLE `dataflow-templates-327714.bigque...  "
      ]
     },
     "execution_count": 2,
     "metadata": {},
     "output_type": "execute_result"
    }
   ],
   "source": [
    "%%bigquery\n",
    "SELECT\n",
    "  table_schema,\n",
    "  table_name,\n",
    "  table_type,\n",
    "  ddl\n",
    "FROM\n",
    "  dataflow-templates-327714.region-eu.INFORMATION_SCHEMA.TABLES\n",
    "WHERE\n",
    "  table_schema = 'bigquery_examples'"
   ]
  },
  {
   "cell_type": "code",
   "execution_count": null,
   "id": "9c0413e3",
   "metadata": {},
   "outputs": [],
   "source": []
  }
 ],
 "metadata": {
  "kernelspec": {
   "display_name": "Python 3 (ipykernel)",
   "language": "python",
   "name": "python3"
  },
  "language_info": {
   "codemirror_mode": {
    "name": "ipython",
    "version": 3
   },
   "file_extension": ".py",
   "mimetype": "text/x-python",
   "name": "python",
   "nbconvert_exporter": "python",
   "pygments_lexer": "ipython3",
   "version": "3.8.12"
  }
 },
 "nbformat": 4,
 "nbformat_minor": 5
}
