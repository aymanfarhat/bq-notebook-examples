{
 "cells": [
  {
   "cell_type": "code",
   "execution_count": 1,
   "id": "320db962",
   "metadata": {},
   "outputs": [],
   "source": [
    "%load_ext google.cloud.bigquery"
   ]
  },
  {
   "cell_type": "markdown",
   "id": "8458e4a1-3690-42c7-a40e-17b71688381d",
   "metadata": {},
   "source": [
    "# Scripting"
   ]
  },
  {
   "cell_type": "markdown",
   "id": "d901cf5a-82f8-4f94-85d0-89e2de774723",
   "metadata": {},
   "source": [
    "## A sequence of SQL statements, seperated by ;"
   ]
  },
  {
   "cell_type": "code",
   "execution_count": 2,
   "id": "1ed35e28-87c5-46e5-b0c8-77afbad38421",
   "metadata": {},
   "outputs": [
    {
     "name": "stdout",
     "output_type": "stream",
     "text": [
      "Executing query with job ID: 65ba719e-27d3-4bc3-89ce-b9f6a3072991\n",
      "Query executing: 10.71s"
     ]
    },
    {
     "name": "stderr",
     "output_type": "stream",
     "text": [
      "\n",
      "ERROR:\n",
      " 400 Query error: SELECT list expression references column start_date which is neither grouped nor aggregated at [22:30]\n",
      "\n",
      "Location: EU\n",
      "Job ID: 65ba719e-27d3-4bc3-89ce-b9f6a3072991\n",
      "\n"
     ]
    }
   ],
   "source": [
    "%%bigquery\n",
    "\n",
    "# Create table typical_trip\n",
    "\n",
    "CREATE OR REPLACE TABLE\n",
    "  dataflow-templates-327714.bigquery_examples.typical_trip AS\n",
    "SELECT\n",
    "  start_station_name,\n",
    "  end_station_name,\n",
    "  APPROX_QUANTILES(duration, 10)[\n",
    "OFFSET\n",
    "  (5)] AS typical_duration,\n",
    "  COUNT(*) AS num_trips\n",
    "FROM\n",
    "  dataflow-templates-327714.bigquery_examples.cycle_hire\n",
    "GROUP BY\n",
    "  start_station_name,\n",
    "  end_station_name;\n",
    "\n",
    "# Create table unusual days\n",
    "\n",
    "CREATE OR REPLACE TABLE\n",
    "  dataflow-templates-327714.bigquery_examples.unusual_days AS\n",
    "    SELECT EXTRACT(DATE FROM start_date) AS trip_date,\n",
    "    APPROX_QUANTILES(duration / typical_duration, 10)[OFFSET(5)] AS ratio,\n",
    "    COUNT(*) AS num_trips_on_day\n",
    "    FROM dataflow-templates-327714.bigquery_examples.cycle_hire as hire,\n",
    "    bigquery_examples.typical_trip AS trip\n",
    "WHERE\n",
    "    hire.start_station_name = trip.start_station_name\n",
    "    AND hire.end_station_name = trip.end_station_name\n",
    "    AND num_trips > 10\n"
   ]
  },
  {
   "cell_type": "markdown",
   "id": "b04803c8",
   "metadata": {},
   "source": [
    "## A simple script starts with variables"
   ]
  },
  {
   "cell_type": "markdown",
   "id": "b138d9dd",
   "metadata": {},
   "source": [
    "#### Use case: Find the return stations with longest duration rentals from waterloo"
   ]
  },
  {
   "cell_type": "markdown",
   "id": "26d09a17",
   "metadata": {},
   "source": [
    "- Here we declare variables to:\n",
    "   - Represent the pattern\n",
    "   - Minimum number of trips threshold \n",
    "   - Array of strings to store intermediate data related to stations that fit the pattern\n",
    "- **Variables can be any type supported by BigQuery**"
   ]
  },
  {
   "cell_type": "code",
   "execution_count": 14,
   "id": "62935a97",
   "metadata": {},
   "outputs": [
    {
     "name": "stderr",
     "output_type": "stream",
     "text": [
      "Query complete after 0.00s: 100%|█████████████████████████████████████████████████████████████████████████████████████████████████████████████| 1/1 [00:00<00:00, 351.02query/s]\n",
      "Downloading: 100%|██████████████████████████████████████████████████████████████████████████████████████████████████████████████████████████████| 5/5 [00:01<00:00,  4.18rows/s]\n"
     ]
    },
    {
     "data": {
      "text/html": [
       "<div>\n",
       "<style scoped>\n",
       "    .dataframe tbody tr th:only-of-type {\n",
       "        vertical-align: middle;\n",
       "    }\n",
       "\n",
       "    .dataframe tbody tr th {\n",
       "        vertical-align: top;\n",
       "    }\n",
       "\n",
       "    .dataframe thead th {\n",
       "        text-align: right;\n",
       "    }\n",
       "</style>\n",
       "<table border=\"1\" class=\"dataframe\">\n",
       "  <thead>\n",
       "    <tr style=\"text-align: right;\">\n",
       "      <th></th>\n",
       "      <th>start_station_name</th>\n",
       "      <th>end_station_name</th>\n",
       "      <th>avg_duration</th>\n",
       "      <th>num_trips</th>\n",
       "    </tr>\n",
       "  </thead>\n",
       "  <tbody>\n",
       "    <tr>\n",
       "      <th>0</th>\n",
       "      <td>Lambeth North Station, Waterloo</td>\n",
       "      <td>Binfield Road, Stockwell</td>\n",
       "      <td>7204.000000</td>\n",
       "      <td>150</td>\n",
       "    </tr>\n",
       "    <tr>\n",
       "      <th>1</th>\n",
       "      <td>Baylis Road, Waterloo</td>\n",
       "      <td>Binfield Road, Stockwell</td>\n",
       "      <td>6520.833333</td>\n",
       "      <td>288</td>\n",
       "    </tr>\n",
       "    <tr>\n",
       "      <th>2</th>\n",
       "      <td>Lower Marsh, Waterloo</td>\n",
       "      <td>Caldwell Street, Stockwell</td>\n",
       "      <td>6420.685714</td>\n",
       "      <td>175</td>\n",
       "    </tr>\n",
       "    <tr>\n",
       "      <th>3</th>\n",
       "      <td>Waterloo Station 2, Waterloo</td>\n",
       "      <td>Waterloo Station 1, Waterloo</td>\n",
       "      <td>5456.953125</td>\n",
       "      <td>256</td>\n",
       "    </tr>\n",
       "    <tr>\n",
       "      <th>4</th>\n",
       "      <td>Waterloo Place, St. James's</td>\n",
       "      <td>Tower Gardens , Tower</td>\n",
       "      <td>4421.320755</td>\n",
       "      <td>212</td>\n",
       "    </tr>\n",
       "  </tbody>\n",
       "</table>\n",
       "</div>"
      ],
      "text/plain": [
       "                start_station_name              end_station_name  \\\n",
       "0  Lambeth North Station, Waterloo      Binfield Road, Stockwell   \n",
       "1            Baylis Road, Waterloo      Binfield Road, Stockwell   \n",
       "2            Lower Marsh, Waterloo    Caldwell Street, Stockwell   \n",
       "3     Waterloo Station 2, Waterloo  Waterloo Station 1, Waterloo   \n",
       "4      Waterloo Place, St. James's         Tower Gardens , Tower   \n",
       "\n",
       "   avg_duration  num_trips  \n",
       "0   7204.000000        150  \n",
       "1   6520.833333        288  \n",
       "2   6420.685714        175  \n",
       "3   5456.953125        256  \n",
       "4   4421.320755        212  "
      ]
     },
     "execution_count": 14,
     "metadata": {},
     "output_type": "execute_result"
    }
   ],
   "source": [
    "%%bigquery\n",
    "\n",
    "-- variables\n",
    "DECLARE\n",
    "  PATTERN STRING DEFAULT '%Waterloo%';\n",
    "DECLARE\n",
    "  stations ARRAY<STRING>;\n",
    "DECLARE\n",
    "  MIN_TRIPS_THRESH INT64 DEFAULT 100;\n",
    "SET\n",
    "  stations = (\n",
    "  SELECT\n",
    "    ARRAY_AGG(name)\n",
    "  FROM\n",
    "    dataflow-templates-327714.bigquery_examples.cycle_stations\n",
    "  WHERE\n",
    "    name LIKE PATTERN );\n",
    "    \n",
    "SELECT\n",
    "  start_station_name,\n",
    "  end_station_name,\n",
    "  AVG(duration) AS avg_duration,\n",
    "  COUNT(duration) AS num_trips\n",
    "FROM\n",
    "  dataflow-templates-327714.bigquery_examples.cycle_hire,\n",
    "  UNNEST(stations) AS station\n",
    "WHERE\n",
    "  start_station_name = station\n",
    "GROUP BY\n",
    "  start_station_name,\n",
    "  end_station_name\n",
    "HAVING\n",
    "  num_trips > MIN_TRIPS_THRESH\n",
    "ORDER BY\n",
    "  avg_duration DESC\n",
    "LIMIT\n",
    "  5;"
   ]
  },
  {
   "cell_type": "markdown",
   "id": "9b63ad4e",
   "metadata": {},
   "source": [
    "## Looping"
   ]
  },
  {
   "cell_type": "markdown",
   "id": "0d98a47d",
   "metadata": {},
   "source": [
    "Scripting also supports control flows through IF conditions and a variety of looping primitives. Below example is a simple while loop as a function of the MIN_TRIPS_THRESH variable."
   ]
  },
  {
   "cell_type": "code",
   "execution_count": 16,
   "id": "e4a431c3",
   "metadata": {},
   "outputs": [
    {
     "name": "stderr",
     "output_type": "stream",
     "text": [
      "Query complete after 0.00s: 100%|█████████████████████████████████████████████████████████████████████████████████████████████████████████████| 1/1 [00:00<00:00, 470.11query/s]\n",
      "Downloading: 100%|██████████████████████████████████████████████████████████████████████████████████████████████████████████████████████████████| 5/5 [00:01<00:00,  4.28rows/s]\n"
     ]
    },
    {
     "data": {
      "text/html": [
       "<div>\n",
       "<style scoped>\n",
       "    .dataframe tbody tr th:only-of-type {\n",
       "        vertical-align: middle;\n",
       "    }\n",
       "\n",
       "    .dataframe tbody tr th {\n",
       "        vertical-align: top;\n",
       "    }\n",
       "\n",
       "    .dataframe thead th {\n",
       "        text-align: right;\n",
       "    }\n",
       "</style>\n",
       "<table border=\"1\" class=\"dataframe\">\n",
       "  <thead>\n",
       "    <tr style=\"text-align: right;\">\n",
       "      <th></th>\n",
       "      <th>start_station_name</th>\n",
       "      <th>end_station_name</th>\n",
       "      <th>avg_duration</th>\n",
       "      <th>num_trips</th>\n",
       "    </tr>\n",
       "  </thead>\n",
       "  <tbody>\n",
       "    <tr>\n",
       "      <th>0</th>\n",
       "      <td>Waterloo Station 1, Waterloo</td>\n",
       "      <td>Waterloo Station 1, Waterloo</td>\n",
       "      <td>3792.509091</td>\n",
       "      <td>825</td>\n",
       "    </tr>\n",
       "    <tr>\n",
       "      <th>1</th>\n",
       "      <td>Waterloo Place, St. James's</td>\n",
       "      <td>Waterloo Place, St. James's</td>\n",
       "      <td>3071.813691</td>\n",
       "      <td>2834</td>\n",
       "    </tr>\n",
       "    <tr>\n",
       "      <th>2</th>\n",
       "      <td>Waterloo Place, St. James's</td>\n",
       "      <td>Wellington Arch, Hyde Park</td>\n",
       "      <td>1452.331386</td>\n",
       "      <td>1883</td>\n",
       "    </tr>\n",
       "    <tr>\n",
       "      <th>3</th>\n",
       "      <td>Waterloo Station 1, Waterloo</td>\n",
       "      <td>Tower Gardens , Tower</td>\n",
       "      <td>1298.056380</td>\n",
       "      <td>1348</td>\n",
       "    </tr>\n",
       "    <tr>\n",
       "      <th>4</th>\n",
       "      <td>Waterloo Station 1, Waterloo</td>\n",
       "      <td>Brushfield Street, Liverpool Street</td>\n",
       "      <td>1233.096271</td>\n",
       "      <td>1153</td>\n",
       "    </tr>\n",
       "  </tbody>\n",
       "</table>\n",
       "</div>"
      ],
      "text/plain": [
       "             start_station_name                     end_station_name  \\\n",
       "0  Waterloo Station 1, Waterloo         Waterloo Station 1, Waterloo   \n",
       "1   Waterloo Place, St. James's          Waterloo Place, St. James's   \n",
       "2   Waterloo Place, St. James's           Wellington Arch, Hyde Park   \n",
       "3  Waterloo Station 1, Waterloo                Tower Gardens , Tower   \n",
       "4  Waterloo Station 1, Waterloo  Brushfield Street, Liverpool Street   \n",
       "\n",
       "   avg_duration  num_trips  \n",
       "0   3792.509091        825  \n",
       "1   3071.813691       2834  \n",
       "2   1452.331386       1883  \n",
       "3   1298.056380       1348  \n",
       "4   1233.096271       1153  "
      ]
     },
     "execution_count": 16,
     "metadata": {},
     "output_type": "execute_result"
    }
   ],
   "source": [
    "%%bigquery\n",
    "\n",
    "-- variables\n",
    "DECLARE\n",
    "  PATTERN STRING DEFAULT '%Waterloo%';\n",
    "DECLARE\n",
    "  stations ARRAY<STRING>;\n",
    "DECLARE\n",
    "  MIN_TRIPS_THRESH INT64 DEFAULT 100;\n",
    "SET\n",
    "  stations = (\n",
    "  SELECT\n",
    "    ARRAY_AGG(name)\n",
    "  FROM\n",
    "    dataflow-templates-327714.bigquery_examples.cycle_stations\n",
    "  WHERE\n",
    "    name LIKE PATTERN );\n",
    "\n",
    "WHILE MIN_TRIPS_THRESH < 1000 DO\n",
    "SELECT\n",
    "  start_station_name,\n",
    "  end_station_name,\n",
    "  AVG(duration) AS avg_duration,\n",
    "  COUNT(duration) AS num_trips\n",
    "FROM\n",
    "  dataflow-templates-327714.bigquery_examples.cycle_hire,\n",
    "  UNNEST(stations) AS station\n",
    "WHERE\n",
    "  start_station_name = station\n",
    "GROUP BY\n",
    "  start_station_name,\n",
    "  end_station_name\n",
    "HAVING\n",
    "  num_trips > MIN_TRIPS_THRESH\n",
    "ORDER BY\n",
    "  avg_duration DESC\n",
    "LIMIT\n",
    "  5;\n",
    "\n",
    "SET MIN_TRIPS_THRESH = MIN_TRIPS_THRESH * 2;\n",
    "END WHILE;"
   ]
  },
  {
   "cell_type": "markdown",
   "id": "878e486f",
   "metadata": {},
   "source": [
    "### More primitive loops"
   ]
  },
  {
   "cell_type": "code",
   "execution_count": 19,
   "id": "37ab0676",
   "metadata": {},
   "outputs": [
    {
     "name": "stderr",
     "output_type": "stream",
     "text": [
      "Query complete after 0.00s: 100%|█████████████████████████████████████████████████████████████████████████████████████████████████████████████| 1/1 [00:00<00:00, 455.41query/s]\n",
      "Downloading: 100%|██████████████████████████████████████████████████████████████████████████████████████████████████████████████████████████████| 1/1 [00:01<00:00,  1.53s/rows]\n"
     ]
    },
    {
     "data": {
      "text/html": [
       "<div>\n",
       "<style scoped>\n",
       "    .dataframe tbody tr th:only-of-type {\n",
       "        vertical-align: middle;\n",
       "    }\n",
       "\n",
       "    .dataframe tbody tr th {\n",
       "        vertical-align: top;\n",
       "    }\n",
       "\n",
       "    .dataframe thead th {\n",
       "        text-align: right;\n",
       "    }\n",
       "</style>\n",
       "<table border=\"1\" class=\"dataframe\">\n",
       "  <thead>\n",
       "    <tr style=\"text-align: right;\">\n",
       "      <th></th>\n",
       "      <th>MIN_TRIPS_THRESH</th>\n",
       "    </tr>\n",
       "  </thead>\n",
       "  <tbody>\n",
       "    <tr>\n",
       "      <th>0</th>\n",
       "      <td>800</td>\n",
       "    </tr>\n",
       "  </tbody>\n",
       "</table>\n",
       "</div>"
      ],
      "text/plain": [
       "   MIN_TRIPS_THRESH\n",
       "0               800"
      ]
     },
     "execution_count": 19,
     "metadata": {},
     "output_type": "execute_result"
    }
   ],
   "source": [
    "%%bigquery\n",
    "\n",
    "-- variable\n",
    "DECLARE\n",
    "  MIN_TRIPS_THRESH INT64 DEFAULT 100;\n",
    "  \n",
    "-- primitive (classic) loop\n",
    "LOOP\n",
    "IF MIN_TRIPS_THRESH >= 1000 THEN\n",
    "    BREAK;\n",
    "END IF;\n",
    "\n",
    "SELECT MIN_TRIPS_THRESH;\n",
    "SET MIN_TRIPS_THRESH = MIN_TRIPS_THRESH * 2;\n",
    "END LOOP;"
   ]
  },
  {
   "cell_type": "markdown",
   "id": "d2a5507e",
   "metadata": {},
   "source": [
    "## Exceptions"
   ]
  },
  {
   "cell_type": "markdown",
   "id": "b4c0776d",
   "metadata": {},
   "source": [
    "### Catching exceptions"
   ]
  },
  {
   "cell_type": "code",
   "execution_count": 21,
   "id": "55058dca",
   "metadata": {},
   "outputs": [
    {
     "name": "stderr",
     "output_type": "stream",
     "text": [
      "Query complete after 0.00s: 100%|█████████████████████████████████████████████████████████████████████████████████████████████████████████████| 1/1 [00:00<00:00, 477.11query/s]\n",
      "Downloading: 100%|██████████████████████████████████████████████████████████████████████████████████████████████████████████████████████████████| 1/1 [00:01<00:00,  1.17s/rows]\n"
     ]
    },
    {
     "data": {
      "text/html": [
       "<div>\n",
       "<style scoped>\n",
       "    .dataframe tbody tr th:only-of-type {\n",
       "        vertical-align: middle;\n",
       "    }\n",
       "\n",
       "    .dataframe tbody tr th {\n",
       "        vertical-align: top;\n",
       "    }\n",
       "\n",
       "    .dataframe thead th {\n",
       "        text-align: right;\n",
       "    }\n",
       "</style>\n",
       "<table border=\"1\" class=\"dataframe\">\n",
       "  <thead>\n",
       "    <tr style=\"text-align: right;\">\n",
       "      <th></th>\n",
       "      <th>msg</th>\n",
       "      <th>trace</th>\n",
       "    </tr>\n",
       "  </thead>\n",
       "  <tbody>\n",
       "    <tr>\n",
       "      <th>0</th>\n",
       "      <td>Query error: Bad int64 value: Kingsway, Covent...</td>\n",
       "      <td>[{'line': 4, 'column': 1, 'filename': None, 'l...</td>\n",
       "    </tr>\n",
       "  </tbody>\n",
       "</table>\n",
       "</div>"
      ],
      "text/plain": [
       "                                                 msg  \\\n",
       "0  Query error: Bad int64 value: Kingsway, Covent...   \n",
       "\n",
       "                                               trace  \n",
       "0  [{'line': 4, 'column': 1, 'filename': None, 'l...  "
      ]
     },
     "execution_count": 21,
     "metadata": {},
     "output_type": "execute_result"
    }
   ],
   "source": [
    "%%bigquery\n",
    "\n",
    "BEGIN\n",
    "DECLARE\n",
    "  stations ARRAY<INT64>;\n",
    "SET\n",
    "  stations = (\n",
    "  SELECT\n",
    "    ARRAY_AGG(CAST(name AS INT64)) names\n",
    "  FROM\n",
    "    dataflow-templates-327714.bigquery_examples.cycle_stations\n",
    "  WHERE\n",
    "    name LIKE '%Kings%'); EXCEPTION\n",
    "    WHEN ERROR THEN SELECT @@error.message AS msg, @@error.stack_trace AS trace;\n",
    "END\n",
    "  ;"
   ]
  },
  {
   "cell_type": "markdown",
   "id": "21719704",
   "metadata": {},
   "source": [
    "### Raising exceptions"
   ]
  },
  {
   "cell_type": "code",
   "execution_count": null,
   "id": "a6020a0b",
   "metadata": {},
   "outputs": [],
   "source": [
    "%%bigquery\n",
    "\n",
    "BEGIN\n",
    "DECLARE\n",
    "  stations ARRAY<STRING>;\n",
    "SET\n",
    "  stations = (\n",
    "  SELECT\n",
    "    ARRAY_AGG(name) names\n",
    "  FROM\n",
    "    dataflow-templates-327714.bigquery_examples.cycle_stations\n",
    "  WHERE\n",
    "    name LIKE '%Kings%'); -- Replace with another value to trigger exception\n",
    "    \n",
    "IF ARRAY_LENGTH(stations) = 0 THEN\n",
    "   RAISE USING MESSAGE = \"No stations matched\";\n",
    "END IF;\n",
    "  \n",
    "   EXCEPTION\n",
    "    WHEN ERROR THEN SELECT @@error.message AS msg, @@error.stack_trace AS trace;\n",
    "END\n",
    "  ;"
   ]
  },
  {
   "cell_type": "markdown",
   "id": "9629dd57",
   "metadata": {},
   "source": [
    "## Dynamic SQL"
   ]
  },
  {
   "cell_type": "markdown",
   "id": "529c2a1a",
   "metadata": {},
   "source": [
    "It is possible to create a string dynamically within a script and execute it using EXECUTE IMMEDIATE"
   ]
  },
  {
   "cell_type": "code",
   "execution_count": null,
   "id": "3d796325",
   "metadata": {},
   "outputs": [],
   "source": [
    "TBD"
   ]
  },
  {
   "cell_type": "code",
   "execution_count": null,
   "id": "5e89819f",
   "metadata": {},
   "outputs": [],
   "source": []
  }
 ],
 "metadata": {
  "environment": {
   "kernel": "python3",
   "name": "common-cpu.m93",
   "type": "gcloud",
   "uri": "gcr.io/deeplearning-platform-release/base-cpu:m93"
  },
  "kernelspec": {
   "display_name": "Python 3 (ipykernel)",
   "language": "python",
   "name": "python3"
  },
  "language_info": {
   "codemirror_mode": {
    "name": "ipython",
    "version": 3
   },
   "file_extension": ".py",
   "mimetype": "text/x-python",
   "name": "python",
   "nbconvert_exporter": "python",
   "pygments_lexer": "ipython3",
   "version": "3.8.12"
  }
 },
 "nbformat": 4,
 "nbformat_minor": 5
}
