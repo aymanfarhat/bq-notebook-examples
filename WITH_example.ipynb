{
 "cells": [
  {
   "cell_type": "code",
   "execution_count": 1,
   "id": "5ac87d97",
   "metadata": {},
   "outputs": [],
   "source": [
    "%load_ext google.cloud.bigquery"
   ]
  },
  {
   "cell_type": "markdown",
   "id": "b10a1efd-3a86-4a0e-b731-92d4bd29c918",
   "metadata": {},
   "source": [
    "## Correlated subquery (Without WITH)"
   ]
  },
  {
   "cell_type": "code",
   "execution_count": 2,
   "id": "7156962d-0594-4d78-a5a5-6a71888bfb28",
   "metadata": {},
   "outputs": [
    {
     "name": "stderr",
     "output_type": "stream",
     "text": [
      "Query complete after 0.03s: 100%|████████████████████████████████████████████████████████████████████████████████████████████████████████████| 6/6 [00:00<00:00, 1409.77query/s]\n",
      "Downloading: 100%|██████████████████████████████████████████████████████████████████████████████████████████████████████████████████████████████| 5/5 [00:02<00:00,  1.75rows/s]\n"
     ]
    },
    {
     "data": {
      "text/html": [
       "<div>\n",
       "<style scoped>\n",
       "    .dataframe tbody tr th:only-of-type {\n",
       "        vertical-align: middle;\n",
       "    }\n",
       "\n",
       "    .dataframe tbody tr th {\n",
       "        vertical-align: top;\n",
       "    }\n",
       "\n",
       "    .dataframe thead th {\n",
       "        text-align: right;\n",
       "    }\n",
       "</style>\n",
       "<table border=\"1\" class=\"dataframe\">\n",
       "  <thead>\n",
       "    <tr style=\"text-align: right;\">\n",
       "      <th></th>\n",
       "      <th>start_date</th>\n",
       "      <th>num_long_trips</th>\n",
       "    </tr>\n",
       "  </thead>\n",
       "  <tbody>\n",
       "    <tr>\n",
       "      <th>0</th>\n",
       "      <td>2016-12-25</td>\n",
       "      <td>740</td>\n",
       "    </tr>\n",
       "    <tr>\n",
       "      <th>1</th>\n",
       "      <td>2016-05-08</td>\n",
       "      <td>714</td>\n",
       "    </tr>\n",
       "    <tr>\n",
       "      <th>2</th>\n",
       "      <td>2017-04-09</td>\n",
       "      <td>667</td>\n",
       "    </tr>\n",
       "    <tr>\n",
       "      <th>3</th>\n",
       "      <td>2015-08-01</td>\n",
       "      <td>663</td>\n",
       "    </tr>\n",
       "    <tr>\n",
       "      <th>4</th>\n",
       "      <td>2015-12-25</td>\n",
       "      <td>660</td>\n",
       "    </tr>\n",
       "  </tbody>\n",
       "</table>\n",
       "</div>"
      ],
      "text/plain": [
       "   start_date  num_long_trips\n",
       "0  2016-12-25             740\n",
       "1  2016-05-08             714\n",
       "2  2017-04-09             667\n",
       "3  2015-08-01             663\n",
       "4  2015-12-25             660"
      ]
     },
     "execution_count": 2,
     "metadata": {},
     "output_type": "execute_result"
    }
   ],
   "source": [
    "%%bigquery\n",
    "\n",
    "SELECT\n",
    "  start_date,\n",
    "  COUNT(*) AS num_long_trips\n",
    "FROM\n",
    "  -- \"First from\"\n",
    "  (\n",
    "  SELECT\n",
    "    start_station_name,\n",
    "    duration,\n",
    "    EXTRACT(DATE\n",
    "    FROM\n",
    "      start_date) AS start_date\n",
    "  FROM\n",
    "    dataflow-templates-327714.bigquery_examples.cycle_hire\n",
    "  WHERE\n",
    "    start_station_name = end_station_name) AS roundtrips\n",
    "WHERE\n",
    "  -- \"Outer where\"\n",
    "  duration > 2 * (\n",
    "  SELECT\n",
    "    AVG(duration) AS avg_duration\n",
    "  FROM\n",
    "    dataflow-templates-327714.bigquery_examples.cycle_hire\n",
    "  WHERE\n",
    "    start_station_name = end_station_name\n",
    "    AND roundtrips.start_station_name = start_station_name)\n",
    "GROUP BY\n",
    "  start_date\n",
    "ORDER BY\n",
    "  num_long_trips DESC\n",
    "LIMIT\n",
    "  5"
   ]
  },
  {
   "cell_type": "markdown",
   "id": "3b0e9ef1-45e9-4f10-aee4-1019584de1e5",
   "metadata": {},
   "source": [
    "## Optimized using WITH"
   ]
  },
  {
   "cell_type": "markdown",
   "id": "9c470798-a1c1-4925-ba97-97ead2c0a47e",
   "metadata": {},
   "source": [
    "Improving reusability and readability using WITH"
   ]
  },
  {
   "cell_type": "code",
   "execution_count": 3,
   "id": "d121768c-4f97-4888-9543-89b2e10657ef",
   "metadata": {},
   "outputs": [
    {
     "name": "stderr",
     "output_type": "stream",
     "text": [
      "Query complete after 0.00s: 100%|████████████████████████████████████████████████████████████████████████████████████████████████████████████| 6/6 [00:00<00:00, 2099.43query/s]\n",
      "Downloading: 100%|██████████████████████████████████████████████████████████████████████████████████████████████████████████████████████████████| 5/5 [00:01<00:00,  4.03rows/s]\n"
     ]
    },
    {
     "data": {
      "text/html": [
       "<div>\n",
       "<style scoped>\n",
       "    .dataframe tbody tr th:only-of-type {\n",
       "        vertical-align: middle;\n",
       "    }\n",
       "\n",
       "    .dataframe tbody tr th {\n",
       "        vertical-align: top;\n",
       "    }\n",
       "\n",
       "    .dataframe thead th {\n",
       "        text-align: right;\n",
       "    }\n",
       "</style>\n",
       "<table border=\"1\" class=\"dataframe\">\n",
       "  <thead>\n",
       "    <tr style=\"text-align: right;\">\n",
       "      <th></th>\n",
       "      <th>start_date</th>\n",
       "      <th>num_long_trips</th>\n",
       "    </tr>\n",
       "  </thead>\n",
       "  <tbody>\n",
       "    <tr>\n",
       "      <th>0</th>\n",
       "      <td>2016-12-25</td>\n",
       "      <td>740</td>\n",
       "    </tr>\n",
       "    <tr>\n",
       "      <th>1</th>\n",
       "      <td>2016-05-08</td>\n",
       "      <td>714</td>\n",
       "    </tr>\n",
       "    <tr>\n",
       "      <th>2</th>\n",
       "      <td>2017-04-09</td>\n",
       "      <td>667</td>\n",
       "    </tr>\n",
       "    <tr>\n",
       "      <th>3</th>\n",
       "      <td>2015-08-01</td>\n",
       "      <td>663</td>\n",
       "    </tr>\n",
       "    <tr>\n",
       "      <th>4</th>\n",
       "      <td>2015-12-25</td>\n",
       "      <td>660</td>\n",
       "    </tr>\n",
       "  </tbody>\n",
       "</table>\n",
       "</div>"
      ],
      "text/plain": [
       "   start_date  num_long_trips\n",
       "0  2016-12-25             740\n",
       "1  2016-05-08             714\n",
       "2  2017-04-09             667\n",
       "3  2015-08-01             663\n",
       "4  2015-12-25             660"
      ]
     },
     "execution_count": 3,
     "metadata": {},
     "output_type": "execute_result"
    }
   ],
   "source": [
    "%%bigquery\n",
    "WITH \n",
    "roundtrips AS (\n",
    "  SELECT\n",
    "    start_station_name,\n",
    "    duration,\n",
    "    EXTRACT(DATE\n",
    "    FROM\n",
    "      start_date) AS start_date\n",
    "  FROM\n",
    "    dataflow-templates-327714.bigquery_examples.cycle_hire\n",
    "  WHERE\n",
    "    start_station_name = end_station_name),\n",
    "\n",
    "station_avg AS (\n",
    "  SELECT\n",
    "    start_station_name,\n",
    "    AVG(duration) AS avg_duration\n",
    "  FROM\n",
    "    roundtrips\n",
    "  GROUP BY\n",
    "    start_station_name)\n",
    "SELECT\n",
    "  start_date,\n",
    "  COUNT(*) AS num_long_trips\n",
    "FROM\n",
    "  roundtrips\n",
    "JOIN\n",
    "  station_avg\n",
    "USING\n",
    "  (start_station_name)\n",
    "WHERE\n",
    "  duration > 2 * avg_duration\n",
    "GROUP BY\n",
    "  start_date\n",
    "ORDER BY\n",
    "  num_long_trips DESC\n",
    "LIMIT\n",
    "  5"
   ]
  },
  {
   "cell_type": "code",
   "execution_count": null,
   "id": "76e3d55a",
   "metadata": {},
   "outputs": [],
   "source": []
  }
 ],
 "metadata": {
  "environment": {
   "kernel": "python3",
   "name": "common-cpu.m93",
   "type": "gcloud",
   "uri": "gcr.io/deeplearning-platform-release/base-cpu:m93"
  },
  "kernelspec": {
   "display_name": "Python 3 (ipykernel)",
   "language": "python",
   "name": "python3"
  },
  "language_info": {
   "codemirror_mode": {
    "name": "ipython",
    "version": 3
   },
   "file_extension": ".py",
   "mimetype": "text/x-python",
   "name": "python",
   "nbconvert_exporter": "python",
   "pygments_lexer": "ipython3",
   "version": "3.8.12"
  }
 },
 "nbformat": 4,
 "nbformat_minor": 5
}
